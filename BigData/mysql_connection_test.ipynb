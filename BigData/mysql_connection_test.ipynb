{
 "cells": [
  {
   "cell_type": "code",
   "execution_count": 15,
   "id": "8ac3e53a-c00c-48b9-ae4f-c5da6e1b25ef",
   "metadata": {},
   "outputs": [
    {
     "name": "stdout",
     "output_type": "stream",
     "text": [
      "Requirement already satisfied: mysql-connector in /opt/conda/lib/python3.11/site-packages (2.2.9)\n",
      "Requirement already satisfied: mysql-connector-python in /opt/conda/lib/python3.11/site-packages (8.1.0)\n",
      "Requirement already satisfied: protobuf<=4.21.12,>=4.21.1 in /opt/conda/lib/python3.11/site-packages (from mysql-connector-python) (4.21.12)\n",
      "Collecting PyMySQL\n",
      "  Obtaining dependency information for PyMySQL from https://files.pythonhosted.org/packages/e5/30/20467e39523d0cfc2b6227902d3687a16364307260c75e6a1cb4422b0c62/PyMySQL-1.1.0-py3-none-any.whl.metadata\n",
      "  Downloading PyMySQL-1.1.0-py3-none-any.whl.metadata (4.4 kB)\n",
      "Downloading PyMySQL-1.1.0-py3-none-any.whl (44 kB)\n",
      "\u001b[2K   \u001b[90m━━━━━━━━━━━━━━━━━━━━━━━━━━━━━━━━━━━━━━━━\u001b[0m \u001b[32m44.8/44.8 kB\u001b[0m \u001b[31m11.1 MB/s\u001b[0m eta \u001b[36m0:00:00\u001b[0m\n",
      "\u001b[?25hInstalling collected packages: PyMySQL\n",
      "Successfully installed PyMySQL-1.1.0\n"
     ]
    }
   ],
   "source": [
    "!pip3 install mysql-connector\n",
    "!pip3 install mysql-connector-python\n",
    "!pip3 install PyMySQL"
   ]
  },
  {
   "cell_type": "code",
   "execution_count": 22,
   "id": "e68e0d7f-93f0-457d-8069-65b005673f4e",
   "metadata": {},
   "outputs": [
    {
     "name": "stdout",
     "output_type": "stream",
     "text": [
      "db 연결됨\n",
      "db 연결 해제\n"
     ]
    }
   ],
   "source": [
    "import pymysql\n",
    "\n",
    "try:\n",
    "    connection = pymysql.connect(\n",
    "        host='192.168.231.129',\n",
    "        port=3306,\n",
    "        user='a',\n",
    "        password='ssafy',\n",
    "        db='SparkTest',\n",
    "        cursorclass=pymysql.cursors.DictCursor\n",
    "    )\n",
    "    \n",
    "    if connection.open:\n",
    "        print(\"db 연결됨\")\n",
    "        \n",
    "except Exception as e:\n",
    "    print(f\"Error: {e}\")\n",
    "\n",
    "finally:\n",
    "    connection.close()\n",
    "    print(\"db 연결 해제\")\n"
   ]
  }
 ],
 "metadata": {
  "kernelspec": {
   "display_name": "Python 3 (ipykernel)",
   "language": "python",
   "name": "python3"
  },
  "language_info": {
   "codemirror_mode": {
    "name": "ipython",
    "version": 3
   },
   "file_extension": ".py",
   "mimetype": "text/x-python",
   "name": "python",
   "nbconvert_exporter": "python",
   "pygments_lexer": "ipython3",
   "version": "3.11.5"
  }
 },
 "nbformat": 4,
 "nbformat_minor": 5
}
