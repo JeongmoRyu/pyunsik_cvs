{
 "cells": [
  {
   "cell_type": "code",
   "execution_count": 1,
   "id": "2c0664a2-dfe4-4084-86d6-2c8efde8ea97",
   "metadata": {},
   "outputs": [
    {
     "name": "stdout",
     "output_type": "stream",
     "text": [
      "Requirement already satisfied: redis in /opt/conda/lib/python3.11/site-packages (5.0.0)\n"
     ]
    }
   ],
   "source": [
    "!pip3 install redis"
   ]
  },
  {
   "cell_type": "code",
   "execution_count": 12,
   "id": "c8931c8e-4b63-48aa-86cc-df1c942c3858",
   "metadata": {},
   "outputs": [
    {
     "name": "stdout",
     "output_type": "stream",
     "text": [
      "+-------------+-----+\n",
      "|      keyword|count|\n",
      "+-------------+-----+\n",
      "|         우유| 1052|\n",
      "|     삼각김밥| 1020|\n",
      "|         치킨| 1016|\n",
      "|         커피| 1007|\n",
      "|           물| 1002|\n",
      "|   아이스크림| 1002|\n",
      "|         과자|  997|\n",
      "|         라면|  996|\n",
      "|에너지 드링크|  971|\n",
      "|         콜라|  937|\n",
      "+-------------+-----+\n",
      "\n"
     ]
    }
   ],
   "source": [
    "from pyspark.sql import SparkSession\n",
    "from pyspark.sql.functions import *\n",
    "import redis\n",
    "import json\n",
    "\n",
    "# Spark 세션 초기화\n",
    "spark = SparkSession \\\n",
    "    .builder \\\n",
    "    .appName(\"RealTimeSearch\") \\\n",
    "    .config(\"spark.driver.extraClassPath\", \"/usr/local/spark/myjars/mysql-connector-j-8.1.0.jar\") \\\n",
    "    .getOrCreate()\n",
    "\n",
    "# MySQL에서 데이터 읽기\n",
    "jdbc_url = \"jdbc:mysql://192.168.231.129:3306/SparkTest\"  # IP와 포트를 자신의 환경에 맞게 수정\n",
    "properties = {\n",
    "    \"user\": \"a\",  # MySQL 사용자 이름\n",
    "    \"password\": \"ssafy\",  # MySQL 비밀번호\n",
    "    \"driver\": \"com.mysql.cj.jdbc.Driver\",\n",
    "}\n",
    "\n",
    "# 오늘 날짜의 검색 로그만 가져오기\n",
    "query = \"(SELECT * FROM searchlog WHERE DATE(created_at) = CURDATE()) as searchlog\"\n",
    "df = spark.read \\\n",
    "    .jdbc(jdbc_url, query, properties=properties)\n",
    "\n",
    "# 실시간 검색어 처리: 단어별로 카운트\n",
    "search_keywords = df.groupBy(\"keyword\").count().orderBy(desc(\"count\"))\n",
    "\n",
    "search_keywords.show()\n",
    "\n",
    "# Redis 연결 설정\n",
    "#r = redis.Redis(host='localhost', port=6379, db=0)  # Redis 호스트와 포트를 자신의 환경에 맞게 수정\n",
    "\n",
    "# DataFrame을 JSON으로 변환 후 Redis에 저장\n",
    "search_json = json.dumps(search_keywords.toJSON().collect())\n",
    "#r.set('realtime_search_keywords', search_json)\n",
    "\n",
    "# Redis에서 데이터 확인 (테스트용)\n",
    "#print(r.get('realtime_search_keywords').decode('utf-8'))\n"
   ]
  }
 ],
 "metadata": {
  "kernelspec": {
   "display_name": "Python 3 (ipykernel)",
   "language": "python",
   "name": "python3"
  },
  "language_info": {
   "codemirror_mode": {
    "name": "ipython",
    "version": 3
   },
   "file_extension": ".py",
   "mimetype": "text/x-python",
   "name": "python",
   "nbconvert_exporter": "python",
   "pygments_lexer": "ipython3",
   "version": "3.11.5"
  }
 },
 "nbformat": 4,
 "nbformat_minor": 5
}
